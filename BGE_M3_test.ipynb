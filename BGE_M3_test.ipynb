{
 "cells": [
  {
   "cell_type": "code",
   "execution_count": 1,
   "metadata": {},
   "outputs": [],
   "source": [
    "from FlagEmbedding import BGEM3FlagModel"
   ]
  },
  {
   "cell_type": "code",
   "execution_count": 2,
   "metadata": {},
   "outputs": [
    {
     "data": {
      "application/vnd.jupyter.widget-view+json": {
       "model_id": "73a5dd18cb79458a8dfa430cd16dc35f",
       "version_major": 2,
       "version_minor": 0
      },
      "text/plain": [
       "Fetching 30 files:   0%|          | 0/30 [00:00<?, ?it/s]"
      ]
     },
     "metadata": {},
     "output_type": "display_data"
    },
    {
     "name": "stderr",
     "output_type": "stream",
     "text": [
      "/Users/gmkim/anaconda3/envs/torch-gpu/lib/python3.11/site-packages/FlagEmbedding/BGE_M3/modeling.py:335: FutureWarning: You are using `torch.load` with `weights_only=False` (the current default value), which uses the default pickle module implicitly. It is possible to construct malicious pickle data which will execute arbitrary code during unpickling (See https://github.com/pytorch/pytorch/blob/main/SECURITY.md#untrusted-models for more details). In a future release, the default value for `weights_only` will be flipped to `True`. This limits the functions that could be executed during unpickling. Arbitrary objects will no longer be allowed to be loaded via this mode unless they are explicitly allowlisted by the user via `torch.serialization.add_safe_globals`. We recommend you start setting `weights_only=True` for any use case where you don't have full control of the loaded file. Please open an issue on GitHub for any issues related to this experimental feature.\n",
      "  colbert_state_dict = torch.load(os.path.join(model_dir, 'colbert_linear.pt'), map_location='cpu')\n",
      "/Users/gmkim/anaconda3/envs/torch-gpu/lib/python3.11/site-packages/FlagEmbedding/BGE_M3/modeling.py:336: FutureWarning: You are using `torch.load` with `weights_only=False` (the current default value), which uses the default pickle module implicitly. It is possible to construct malicious pickle data which will execute arbitrary code during unpickling (See https://github.com/pytorch/pytorch/blob/main/SECURITY.md#untrusted-models for more details). In a future release, the default value for `weights_only` will be flipped to `True`. This limits the functions that could be executed during unpickling. Arbitrary objects will no longer be allowed to be loaded via this mode unless they are explicitly allowlisted by the user via `torch.serialization.add_safe_globals`. We recommend you start setting `weights_only=True` for any use case where you don't have full control of the loaded file. Please open an issue on GitHub for any issues related to this experimental feature.\n",
      "  sparse_state_dict = torch.load(os.path.join(model_dir, 'sparse_linear.pt'), map_location='cpu')\n"
     ]
    }
   ],
   "source": [
    "model = BGEM3FlagModel('BAAI/bge-m3', use_fp16=True)  # Setting use_fp16 to True speeds up computation with a slight performance degradation"
   ]
  },
  {
   "cell_type": "code",
   "execution_count": 3,
   "metadata": {},
   "outputs": [],
   "source": [
    "\n",
    "# sentences_1 = [\"What is BGE M3?\", \"Defination of BM25\"]\n",
    "sentence1 = \"BGE M3 is an embedding model supporting dense retrieval, lexical matching and multi-vector interaction.\"\n",
    "sentence2 = \"BM25 is a bag-of-words retrieval function that ranks a set of documents based on the query terms appearing in each document\""
   ]
  },
  {
   "cell_type": "code",
   "execution_count": 4,
   "metadata": {},
   "outputs": [],
   "source": [
    "embedding1 = model.encode(sentence1,return_dense=True, return_sparse=True, return_colbert_vecs=True, batch_size=12, max_length=8192,)\n",
    "embedding2 = model.encode(sentence2,return_dense=True, return_sparse=True, return_colbert_vecs=True, batch_size=12, max_length=8192,)"
   ]
  },
  {
   "cell_type": "code",
   "execution_count": 19,
   "metadata": {},
   "outputs": [
    {
     "data": {
      "text/plain": [
       "{'dense_vecs': array([-8.535e-05, -6.659e-02, -1.844e-04, ...,  4.318e-02, -2.129e-02,\n",
       "         1.387e-02], dtype=float16),\n",
       " 'lexical_weights': defaultdict(int,\n",
       "             {'335': np.float16(0.1411),\n",
       "              '11679': np.float16(0.2588),\n",
       "              '276': np.float16(0.172),\n",
       "              '363': np.float16(0.269),\n",
       "              '83': np.float16(0.1274),\n",
       "              '142': np.float16(0.07336),\n",
       "              '55720': np.float16(0.2141),\n",
       "              '59725': np.float16(0.167),\n",
       "              '3299': np.float16(0.255),\n",
       "              '8060': np.float16(0.1909),\n",
       "              '214': np.float16(0.08295),\n",
       "              '168': np.float16(0.1814),\n",
       "              '184': np.float16(0.1213),\n",
       "              '456': np.float16(0.05704),\n",
       "              '97351': np.float16(0.1573),\n",
       "              '1405': np.float16(0.0633),\n",
       "              '75675': np.float16(0.1516),\n",
       "              '21533': np.float16(0.1057),\n",
       "              '14858': np.float16(0.1509),\n",
       "              '136': np.float16(0.01573),\n",
       "              '6024': np.float16(0.08417),\n",
       "              '272': np.float16(0.1454),\n",
       "              '18770': np.float16(0.1403),\n",
       "              '182809': np.float16(0.1526)}),\n",
       " 'colbert_vecs': array([[ 0.03254336, -0.04878805,  0.00860357, ...,  0.01190918,\n",
       "          0.0310682 ,  0.00870251],\n",
       "        [ 0.01934105, -0.04588047, -0.00790275, ..., -0.02214042,\n",
       "          0.00026429,  0.01822313],\n",
       "        [ 0.06280846, -0.05857992,  0.05231001, ...,  0.00292535,\n",
       "          0.05431492, -0.00914969],\n",
       "        ...,\n",
       "        [-0.02023872, -0.02759009,  0.02866853, ...,  0.01718314,\n",
       "          0.01174601, -0.01676075],\n",
       "        [ 0.00626824, -0.06825513,  0.01849905, ...,  0.0119163 ,\n",
       "          0.06017509,  0.01637273],\n",
       "        [ 0.00870515, -0.02002503, -0.02108368, ...,  0.01974443,\n",
       "          0.05816187,  0.03446346]], dtype=float32)}"
      ]
     },
     "execution_count": 19,
     "metadata": {},
     "output_type": "execute_result"
    }
   ],
   "source": [
    "embedding1"
   ]
  },
  {
   "cell_type": "code",
   "execution_count": 5,
   "metadata": {},
   "outputs": [
    {
     "name": "stdout",
     "output_type": "stream",
     "text": [
      "0.556\n"
     ]
    }
   ],
   "source": [
    "similarity = embedding1['dense_vecs'] @ embedding2['dense_vecs'].T\n",
    "print(similarity)"
   ]
  },
  {
   "cell_type": "code",
   "execution_count": 6,
   "metadata": {},
   "outputs": [
    {
     "name": "stdout",
     "output_type": "stream",
     "text": [
      "{'B': np.float16(0.1411), 'GE': np.float16(0.2588), 'M': np.float16(0.172), '3': np.float16(0.269), 'is': np.float16(0.1274), 'an': np.float16(0.07336), 'embe': np.float16(0.2141), 'dding': np.float16(0.167), 'model': np.float16(0.255), 'support': np.float16(0.1909), 'ing': np.float16(0.08295), 'den': np.float16(0.1814), 'se': np.float16(0.1213), 're': np.float16(0.05704), 'trie': np.float16(0.1573), 'val': np.float16(0.0633), 'lex': np.float16(0.1516), 'ical': np.float16(0.1057), 'match': np.float16(0.1509), 'and': np.float16(0.01573), 'multi': np.float16(0.08417), 've': np.float16(0.1454), 'ctor': np.float16(0.1403), 'interaction': np.float16(0.1526)}\n"
     ]
    }
   ],
   "source": [
    "print(model.convert_id_to_token(embedding1['lexical_weights']))\n"
   ]
  },
  {
   "cell_type": "code",
   "execution_count": 7,
   "metadata": {},
   "outputs": [
    {
     "name": "stdout",
     "output_type": "stream",
     "text": [
      "0.05295\n"
     ]
    }
   ],
   "source": [
    "lexical_scores = model.compute_lexical_matching_score(embedding1['lexical_weights'], embedding2['lexical_weights'])\n",
    "print(lexical_scores)\n"
   ]
  },
  {
   "cell_type": "code",
   "execution_count": 8,
   "metadata": {},
   "outputs": [
    {
     "name": "stdout",
     "output_type": "stream",
     "text": [
      "tensor(0.5646)\n"
     ]
    }
   ],
   "source": [
    "print(model.colbert_score(embedding1['colbert_vecs'], embedding2['colbert_vecs']))\n"
   ]
  },
  {
   "cell_type": "code",
   "execution_count": 9,
   "metadata": {},
   "outputs": [
    {
     "name": "stdout",
     "output_type": "stream",
     "text": [
      "{'colbert': 0.5646466612815857, 'sparse': 0.05291748046875, 'dense': 0.55615234375, 'sparse+dense': 0.5364176034927368, 'colbert+sparse+dense': 0.5502498149871826}\n"
     ]
    }
   ],
   "source": [
    "\n",
    "print(model.compute_score([sentence1, sentence2], max_passage_length=128, # a smaller max length leads to a lower latency\n",
    "                          weights_for_different_modes=[0.49, 0.02, 0.49])) # weights_for_different_modes(w) is used to do weighted sum: w[0]*dense_score + w[1]*sparse_score + w[2]*colbert_score\n"
   ]
  },
  {
   "cell_type": "code",
   "execution_count": 10,
   "metadata": {},
   "outputs": [
    {
     "name": "stdout",
     "output_type": "stream",
     "text": [
      "{'colbert': 1.0000001192092896, 'sparse': 0.6005859375, 'dense': 1.0, 'sparse+dense': 0.9843367338180542, 'colbert+sparse+dense': 0.9920117855072021}\n"
     ]
    }
   ],
   "source": [
    "\n",
    "print(model.compute_score([sentence1, sentence1], max_passage_length=128, # a smaller max length leads to a lower latency\n",
    "                          weights_for_different_modes=[0.49, 0.02, 0.49])) # weights_for_different_modes(w) is used to do weighted sum: w[0]*dense_score + w[1]*sparse_score + w[2]*colbert_score\n"
   ]
  }
 ],
 "metadata": {
  "kernelspec": {
   "display_name": "torch-gpu",
   "language": "python",
   "name": "torch-gpu"
  },
  "language_info": {
   "codemirror_mode": {
    "name": "ipython",
    "version": 3
   },
   "file_extension": ".py",
   "mimetype": "text/x-python",
   "name": "python",
   "nbconvert_exporter": "python",
   "pygments_lexer": "ipython3",
   "version": "3.11.10"
  }
 },
 "nbformat": 4,
 "nbformat_minor": 2
}
